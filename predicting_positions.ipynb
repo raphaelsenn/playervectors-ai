{
 "cells": [
  {
   "cell_type": "markdown",
   "metadata": {},
   "source": [
    "# Predicting Positions of Soccer Players using Machine-Learning"
   ]
  },
  {
   "cell_type": "code",
   "execution_count": 1,
   "metadata": {},
   "outputs": [],
   "source": [
    "import ast\n",
    "\n",
    "import numpy as np\n",
    "import pandas as pd\n",
    "import seaborn as sns\n",
    "import matplotlib.pyplot as plt\n",
    "\n",
    "from sklearn.tree import DecisionTreeClassifier\n",
    "from sklearn.ensemble import RandomForestClassifier\n",
    "from sklearn.ensemble import GradientBoostingClassifier\n",
    "from sklearn.neighbors import KNeighborsClassifier\n",
    "from sklearn.neural_network import MLPClassifier\n",
    "from sklearn.svm import SVC\n",
    "\n",
    "from sklearn.preprocessing import LabelEncoder\n",
    "from sklearn.metrics import confusion_matrix\n",
    "from sklearn.model_selection import train_test_split\n",
    "from sklearn.metrics import accuracy_score\n",
    "\n",
    "from playervectors import PlayerVectors\n",
    "from playervectors.helpers import (\n",
    "    ExtractPlayers,\n",
    "    ExtractTeams,\n",
    "    ExtractMinutesPlayed)"
   ]
  },
  {
   "cell_type": "code",
   "execution_count": 2,
   "metadata": {},
   "outputs": [],
   "source": [
    "# Load event stream data\n",
    "df_players = pd.read_csv('data/players.csv')\n",
    "df_playerank = pd.read_csv('data/playerank.csv')\n",
    "df_teams = pd.read_csv('data/teams.csv')\n",
    "df_events = pd.read_csv('data/actions.csv')"
   ]
  },
  {
   "cell_type": "code",
   "execution_count": 3,
   "metadata": {},
   "outputs": [],
   "source": [
    "# Normalize playing direction\n",
    "df_events['start_x'] = (df_events['start_x'] / 105) * 100\n",
    "df_events['start_y'] = (df_events['start_y'] / 68) * 100\n",
    "\n",
    "df_events['start_x'] = 100 - df_events['start_x']\n",
    "df_events['start_y'] = 100 - df_events['start_y']"
   ]
  },
  {
   "cell_type": "code",
   "execution_count": 4,
   "metadata": {},
   "outputs": [],
   "source": [
    "# Extract a mapping of player_id's to selected attributes (first-name, last-name, team_id, position)\n",
    "players = ExtractPlayers(df=df_players,\n",
    "                         wy_id='wyId',\n",
    "                         attributes=['firstName', 'lastName', 'currentTeamId', 'role'])\n",
    "\n",
    "# Mapping {player_id -> played_minutes}\n",
    "minutes_played = ExtractMinutesPlayed(df=df_playerank,\n",
    "                                      column_player='playerId',\n",
    "                                      column_minutes='minutesPlayed')\n",
    "\n",
    "# Extracting Team Information\n",
    "# Mapping {teamID -> [selected attributes e.g. TeamName, City, ...]}\n",
    "teams = ExtractTeams(df=df_teams,\n",
    "                     wy_id='wyId',\n",
    "                     attributes=['name'])\n",
    "\n",
    "\n",
    "# Mapping {teamID -> [list of playerIDs]}\n",
    "teamID_to_playerIDs = {}\n",
    "\n",
    "# Mapping {playerID -> Player Name}\n",
    "playersID_to_name = {}\n",
    "\n",
    "for playerID, attributes in players.items():\n",
    "    first, last, teamID = attributes[0], str(attributes[1]), str(attributes[2])\n",
    "    \n",
    "    if teamID not in teamID_to_playerIDs:\n",
    "        teamID_to_playerIDs[teamID] = [playerID]\n",
    "    else:\n",
    "        teamID_to_playerIDs[teamID].append(playerID)\n",
    "    \n",
    "    if playerID not in playersID_to_name:\n",
    "        playersID_to_name[playerID] = f'{first} {last}'"
   ]
  },
  {
   "cell_type": "code",
   "execution_count": 5,
   "metadata": {},
   "outputs": [],
   "source": [
    "positions = {player_id : attrib[3] for player_id, attrib in players.items()}\n",
    "positions = {player_id: ast.literal_eval(positions[player_id])['name'] for player_id in positions}"
   ]
  },
  {
   "cell_type": "code",
   "execution_count": 6,
   "metadata": {},
   "outputs": [
    {
     "name": "stdout",
     "output_type": "stream",
     "text": [
      "Action: shot\tShape of M: (2500, 3030)\tShape of W: (2500, 4)\tShape of H: (4, 3030)\n",
      "Action: cross\tShape of M: (2500, 3030)\tShape of W: (2500, 4)\tShape of H: (4, 3030)\n",
      "Action: dribble\tShape of M: (2500, 3030)\tShape of W: (2500, 5)\tShape of H: (5, 3030)\n",
      "Action: pass\tShape of M: (2500, 3030)\tShape of W: (2500, 5)\tShape of H: (5, 3030)\n"
     ]
    }
   ],
   "source": [
    "pvs = PlayerVectors(grid=(50, 50),\n",
    "                    sigma=4.0,\n",
    "                    actions=['shot', 'cross', 'dribble', 'pass'],\n",
    "                    components=[4, 4, 5, 5])\n",
    "\n",
    "pvs.fit(df_events=df_events,\n",
    "        minutes_played=minutes_played,\n",
    "        player_names=playersID_to_name,\n",
    "        verbose=True)"
   ]
  },
  {
   "cell_type": "code",
   "execution_count": 7,
   "metadata": {},
   "outputs": [],
   "source": [
    "del pvs.player_vectors[0]"
   ]
  },
  {
   "cell_type": "markdown",
   "metadata": {},
   "source": [
    "# Compare Classification Models\n",
    "\n",
    "#### Machine learning classification models:\n",
    "\n",
    "* Decission Tree Classifier\n",
    "* Random Forrest Classifier\n",
    "* Gradient Boosted Decission Tree Classifier"
   ]
  },
  {
   "cell_type": "code",
   "execution_count": 8,
   "metadata": {},
   "outputs": [],
   "source": [
    "names = [\n",
    "    'KNN',\n",
    "    'SVM',\n",
    "    'CLF', \n",
    "    'Random Forrest',\n",
    "    'GBDT',\n",
    "    'MLP'\n",
    "]\n",
    "\n",
    "classifiers = [\n",
    "    KNeighborsClassifier(),\n",
    "    SVC(),\n",
    "    DecisionTreeClassifier(),\n",
    "    RandomForestClassifier(),\n",
    "    GradientBoostingClassifier(),\n",
    "    MLPClassifier()\n",
    "]\n",
    "\n",
    "acc_scores_train = []\n",
    "acc_scores_test = []"
   ]
  },
  {
   "cell_type": "code",
   "execution_count": 9,
   "metadata": {},
   "outputs": [],
   "source": [
    "X = [pvs.player_vectors[player_id] for player_id in pvs.player_vectors]\n",
    "y = [positions[player_id] for player_id in pvs.player_vectors]\n",
    "\n",
    "# Label encoding\n",
    "le = LabelEncoder()\n",
    "y_enc = le.fit_transform(y)"
   ]
  },
  {
   "cell_type": "code",
   "execution_count": 10,
   "metadata": {},
   "outputs": [
    {
     "data": {
      "image/png": "[encoded data removed]",
      "text/plain": [
       "<Figure size 640x480 with 1 Axes>"
      ]
     },
     "metadata": {},
     "output_type": "display_data"
    }
   ],
   "source": [
    "df_targets = pd.DataFrame({'Position': y})\n",
    "df_targets = df_targets['Position'].value_counts().reset_index(name='Counts')\n",
    "\n",
    "plt.title('Position targets')\n",
    "sns.barplot(x='Position',\n",
    "            y='Counts',\n",
    "            data=df_targets,\n",
    "            hue=list(df_targets['Position']))\n",
    "plt.show()"
   ]
  },
  {
   "cell_type": "code",
   "execution_count": 11,
   "metadata": {},
   "outputs": [],
   "source": [
    "X_train, X_test, y_train, y_test = train_test_split(X, y_enc, train_size=0.8)"
   ]
  },
  {
   "cell_type": "code",
   "execution_count": 12,
   "metadata": {},
   "outputs": [
    {
     "name": "stdout",
     "output_type": "stream",
     "text": [
      "X_train shape: (2423, 18)\n",
      "y_train shape: (2423,)\n",
      "X_test shape: (606, 18)\n",
      "y_test shape: (606,)\n"
     ]
    }
   ],
   "source": [
    "print(f'X_train shape: {np.shape(X_train)}')\n",
    "print(f'y_train shape: {np.shape(y_train)}')\n",
    "print(f'X_test shape: {np.shape(X_test)}')\n",
    "print(f'y_test shape: {np.shape(y_test)}')"
   ]
  },
  {
   "cell_type": "code",
   "execution_count": 13,
   "metadata": {},
   "outputs": [],
   "source": [
    "for name, model in zip(names, classifiers):\n",
    "    model.fit(X_train, y_train)\n",
    "    y_hat_train = model.predict(X_train)\n",
    "    y_hat_test = model.predict(X_test)\n",
    "\n",
    "    acc_train = accuracy_score(y_train, y_hat_train)\n",
    "    acc_test = accuracy_score(y_test, y_hat_test)\n",
    "\n",
    "    acc_scores_train.append(acc_train)\n",
    "    acc_scores_test.append(acc_test)"
   ]
  },
  {
   "cell_type": "code",
   "execution_count": 14,
   "metadata": {},
   "outputs": [
    {
     "data": {
      "text/html": [
       "<div>\n",
       "<style scoped>\n",
       "    .dataframe tbody tr th:only-of-type {\n",
       "        vertical-align: middle;\n",
       "    }\n",
       "\n",
       "    .dataframe tbody tr th {\n",
       "        vertical-align: top;\n",
       "    }\n",
       "\n",
       "    .dataframe thead th {\n",
       "        text-align: right;\n",
       "    }\n",
       "</style>\n",
       "<table border=\"1\" class=\"dataframe\">\n",
       "  <thead>\n",
       "    <tr style=\"text-align: right;\">\n",
       "      <th></th>\n",
       "      <th>Classifier</th>\n",
       "      <th>accuracy_score_train</th>\n",
       "      <th>accuracy_score_test</th>\n",
       "    </tr>\n",
       "  </thead>\n",
       "  <tbody>\n",
       "    <tr>\n",
       "      <th>0</th>\n",
       "      <td>KNN</td>\n",
       "      <td>0.860916</td>\n",
       "      <td>0.846535</td>\n",
       "    </tr>\n",
       "    <tr>\n",
       "      <th>1</th>\n",
       "      <td>SVM</td>\n",
       "      <td>0.830376</td>\n",
       "      <td>0.849835</td>\n",
       "    </tr>\n",
       "    <tr>\n",
       "      <th>2</th>\n",
       "      <td>CLF</td>\n",
       "      <td>1.000000</td>\n",
       "      <td>0.800330</td>\n",
       "    </tr>\n",
       "    <tr>\n",
       "      <th>3</th>\n",
       "      <td>Random Forrest</td>\n",
       "      <td>1.000000</td>\n",
       "      <td>0.859736</td>\n",
       "    </tr>\n",
       "    <tr>\n",
       "      <th>4</th>\n",
       "      <td>GBDT</td>\n",
       "      <td>0.943046</td>\n",
       "      <td>0.866337</td>\n",
       "    </tr>\n",
       "    <tr>\n",
       "      <th>5</th>\n",
       "      <td>MLP</td>\n",
       "      <td>0.846471</td>\n",
       "      <td>0.858086</td>\n",
       "    </tr>\n",
       "  </tbody>\n",
       "</table>\n",
       "</div>"
      ],
      "text/plain": [
       "       Classifier  accuracy_score_train  accuracy_score_test\n",
       "0             KNN              0.860916             0.846535\n",
       "1             SVM              0.830376             0.849835\n",
       "2             CLF              1.000000             0.800330\n",
       "3  Random Forrest              1.000000             0.859736\n",
       "4            GBDT              0.943046             0.866337\n",
       "5             MLP              0.846471             0.858086"
      ]
     },
     "execution_count": 14,
     "metadata": {},
     "output_type": "execute_result"
    }
   ],
   "source": [
    "df_accuracys = pd.DataFrame({'Classifier': names,\n",
    "                         'accuracy_score_train': acc_scores_train,\n",
    "                         'accuracy_score_test': acc_scores_test})\n",
    "df_accuracys.head(len(names))"
   ]
  },
  {
   "cell_type": "code",
   "execution_count": 15,
   "metadata": {},
   "outputs": [
    {
     "data": {
      "image/png": "[encoded data removed]",
      "text/plain": [
       "<Figure size 1200x600 with 2 Axes>"
      ]
     },
     "metadata": {},
     "output_type": "display_data"
    }
   ],
   "source": [
    "fig, axes = plt.subplots(nrows=1, ncols=2, figsize=(12, 6))\n",
    "\n",
    "axes = axes.flatten()\n",
    "\n",
    "axes[0].set_title('Train Accuracy')\n",
    "sns.barplot(x='Classifier',\n",
    "            y='accuracy_score_train',\n",
    "            data=df_accuracys,\n",
    "            hue=names,\n",
    "            ax=axes[0])\n",
    "\n",
    "axes[1].set_title('Test Accuracy')\n",
    "sns.barplot(x='Classifier',\n",
    "            y='accuracy_score_test',\n",
    "            data=df_accuracys,\n",
    "            hue=names,\n",
    "            ax=axes[1]) \n",
    "plt.tight_layout()\n",
    "plt.show()"
   ]
  }
 ],
 "metadata": {
  "kernelspec": {
   "display_name": ".venv",
   "language": "python",
   "name": "python3"
  },
  "language_info": {
   "codemirror_mode": {
    "name": "ipython",
    "version": 3
   },
   "file_extension": ".py",
   "mimetype": "text/x-python",
   "name": "python",
   "nbconvert_exporter": "python",
   "pygments_lexer": "ipython3",
   "version": "3.12.5"
  }
 },
 "nbformat": 4,
 "nbformat_minor": 2
}
